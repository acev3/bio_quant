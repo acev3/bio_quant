{
 "cells": [
  {
   "cell_type": "code",
   "execution_count": 42,
   "id": "629da918",
   "metadata": {},
   "outputs": [],
   "source": [
    "import pandas as pd\n",
    "import numpy as np\n",
    "import matplotlib.pyplot as plt\n",
    "%matplotlib inline"
   ]
  },
  {
   "cell_type": "code",
   "execution_count": 43,
   "id": "19bb7c82",
   "metadata": {},
   "outputs": [
    {
     "name": "stderr",
     "output_type": "stream",
     "text": [
      "/home/koval/.local/lib/python3.8/site-packages/openpyxl/worksheet/_reader.py:312: UserWarning: Unknown extension is not supported and will be removed\n",
      "  warn(msg)\n"
     ]
    }
   ],
   "source": [
    "cell_lines_lrnRNA = pd.read_excel(\"data/aah7111-TableS1.xlsx\")\n",
    "cell_lines_lrnRNA = cell_lines_lrnRNA.rename(columns={'Gene ID': 'Gene_ID'})\n",
    "\n",
    "crispiri = pd.read_excel(\"data/aah7111-Table.xlsx\")\n",
    "crispiri = crispiri.rename(columns={'gene': 'Gene_ID'})"
   ]
  },
  {
   "cell_type": "code",
   "execution_count": 44,
   "id": "5e2be915",
   "metadata": {},
   "outputs": [
    {
     "data": {
      "text/plain": [
       "Gene_ID                 17734\n",
       "TSS ID                  17734\n",
       "Transcript ID           17734\n",
       "gene name               17734\n",
       "chromosome              17734\n",
       "strand                  17734\n",
       "TSS source              17734\n",
       "primary TSS 5prime      17734\n",
       "primary TSS 3prime      17734\n",
       "secondary TSS 5prime    17734\n",
       "secondary TSS 3prime    17734\n",
       "dtype: int64"
      ]
     },
     "execution_count": 44,
     "metadata": {},
     "output_type": "execute_result"
    }
   ],
   "source": [
    "cell_lines_lrnRNA.count()"
   ]
  },
  {
   "cell_type": "code",
   "execution_count": 45,
   "id": "2c0770e8",
   "metadata": {},
   "outputs": [
    {
     "data": {
      "text/plain": [
       "Gene_ID                                                      5615\n",
       "Mann-Whitney p-value                                         5615\n",
       "hek_av                                                       5615\n",
       "sgRNAs passing filter                                        5615\n",
       "screen score                                                 5615\n",
       "hek_RNA                                                      5615\n",
       "closest protein-coding gene                                  5540\n",
       "distance to closest protein-coding gene TSS (bp)             5540\n",
       "closest protein-coding gene K562 growth phenotype (gamma)    5427\n",
       "closest protein-coding gene expression in HEK293T (FPKM)     5489\n",
       "lnc_metric                                                   5615\n",
       "k562_av                                                      5615\n",
       "k562_RNA                                                     5615\n",
       "mcf7_av                                                      5615\n",
       "mcf7_RNA                                                     5615\n",
       "231_av                                                       5615\n",
       "231_RNA                                                      5615\n",
       "hela_av                                                      3234\n",
       "hela_RNA                                                     3234\n",
       "u87_av                                                       5615\n",
       "u87_RNA                                                      5601\n",
       "dtype: int64"
      ]
     },
     "execution_count": 45,
     "metadata": {},
     "output_type": "execute_result"
    }
   ],
   "source": [
    "crispiri.count()"
   ]
  },
  {
   "cell_type": "code",
   "execution_count": 46,
   "id": "f8548e27",
   "metadata": {},
   "outputs": [],
   "source": [
    "merged = crispiri.merge(cell_lines_lrnRNA, on=['Gene_ID'])"
   ]
  },
  {
   "cell_type": "code",
   "execution_count": 47,
   "id": "53b41f23",
   "metadata": {},
   "outputs": [
    {
     "data": {
      "text/plain": [
       "Gene_ID                                                      5991\n",
       "Mann-Whitney p-value                                         5991\n",
       "hek_av                                                       5991\n",
       "sgRNAs passing filter                                        5991\n",
       "screen score                                                 5991\n",
       "hek_RNA                                                      5991\n",
       "closest protein-coding gene                                  5831\n",
       "distance to closest protein-coding gene TSS (bp)             5831\n",
       "closest protein-coding gene K562 growth phenotype (gamma)    5712\n",
       "closest protein-coding gene expression in HEK293T (FPKM)     5777\n",
       "lnc_metric                                                   5991\n",
       "k562_av                                                      5991\n",
       "k562_RNA                                                     5991\n",
       "mcf7_av                                                      5991\n",
       "mcf7_RNA                                                     5991\n",
       "231_av                                                       5991\n",
       "231_RNA                                                      5991\n",
       "hela_av                                                      3509\n",
       "hela_RNA                                                     3509\n",
       "u87_av                                                       5991\n",
       "u87_RNA                                                      5976\n",
       "TSS ID                                                       5991\n",
       "Transcript ID                                                5991\n",
       "gene name                                                    5991\n",
       "chromosome                                                   5991\n",
       "strand                                                       5991\n",
       "TSS source                                                   5991\n",
       "primary TSS 5prime                                           5991\n",
       "primary TSS 3prime                                           5991\n",
       "secondary TSS 5prime                                         5991\n",
       "secondary TSS 3prime                                         5991\n",
       "dtype: int64"
      ]
     },
     "execution_count": 47,
     "metadata": {},
     "output_type": "execute_result"
    }
   ],
   "source": [
    "merged.count()"
   ]
  },
  {
   "cell_type": "markdown",
   "id": "c260b5b9",
   "metadata": {},
   "source": [
    "### Отбираем признаки, по которым будем считать среднее значение и медианну"
   ]
  },
  {
   "cell_type": "code",
   "execution_count": 49,
   "id": "918d50d2",
   "metadata": {},
   "outputs": [
    {
     "name": "stderr",
     "output_type": "stream",
     "text": [
      "/tmp/ipykernel_92633/2517393010.py:3: SettingWithCopyWarning: \n",
      "A value is trying to be set on a copy of a slice from a DataFrame\n",
      "\n",
      "See the caveats in the documentation: https://pandas.pydata.org/pandas-docs/stable/user_guide/indexing.html#returning-a-view-versus-a-copy\n",
      "  merged['mcf7_RNA'].loc[0] = 207951.22\n"
     ]
    }
   ],
   "source": [
    "features = ['hek_av','hek_RNA', 'k562_av','k562_RNA','mcf7_av', 'mcf7_RNA','231_av', '231_RNA', 'hela_av','hela_RNA','u87_av','u87_RNA']\n",
    "merged = merged.replace(np.nan, int(0))\n",
    "# в данных 1 значение строка, вместо float\n",
    "merged['mcf7_RNA'].loc[0] = 207951.22"
   ]
  },
  {
   "cell_type": "markdown",
   "id": "469c75b7",
   "metadata": {},
   "source": [
    "### Легенда - lrnRNA, берем каждый  признак и сравниваем со средним и медианным значением, считаем, что если значение меньше и среднего и медианного, то такой признак дает 0-ой вклад в кодирующий потенциал, иначе вклад есть(1).\n",
    "\n"
   ]
  },
  {
   "cell_type": "code",
   "execution_count": 50,
   "id": "81f047af",
   "metadata": {},
   "outputs": [],
   "source": [
    "for feature in features:\n",
    "    a = (merged[feature].abs() < merged[feature].abs().median()).to_frame()\n",
    "    b = (merged[feature].abs() < merged[feature].abs().mean()).to_frame()\n",
    "    choose_data = []\n",
    "    for i in range(len(a)):\n",
    "        if not a[feature].loc[i] or not b[feature].loc[i]:\n",
    "            choose_data.append(False)\n",
    "        else:\n",
    "            choose_data.append(True)\n",
    "    merged['score_'+feature] = choose_data\n",
    "    merged['score_'+feature].astype(int)"
   ]
  },
  {
   "cell_type": "code",
   "execution_count": 51,
   "id": "c789df0f",
   "metadata": {},
   "outputs": [],
   "source": [
    "merged.replace({False: 0, True: 1}, inplace=True)"
   ]
  },
  {
   "cell_type": "markdown",
   "id": "b5a003e1",
   "metadata": {},
   "source": [
    "### Считаем суммарный вклад признаков.( +1, если вклад есть, +0, если вклада нет)"
   ]
  },
  {
   "cell_type": "code",
   "execution_count": 52,
   "id": "aa4c23e7",
   "metadata": {},
   "outputs": [],
   "source": [
    "merged['score_final'] = 0\n",
    "for i in range(len(merged)):\n",
    "    value = 0\n",
    "    for feature in features:\n",
    "        value+= merged.iloc[i]['score_'+feature]\n",
    "    merged.loc[i,'score_final'] = value"
   ]
  },
  {
   "cell_type": "markdown",
   "id": "fc436d38",
   "metadata": {},
   "source": [
    "# Распределение"
   ]
  },
  {
   "cell_type": "code",
   "execution_count": 53,
   "id": "06747a9c",
   "metadata": {},
   "outputs": [
    {
     "data": {
      "text/plain": [
       "<AxesSubplot:ylabel='Frequency'>"
      ]
     },
     "execution_count": 53,
     "metadata": {},
     "output_type": "execute_result"
    },
    {
     "data": {
      "image/png": "[encoded data removed]",
      "text/plain": [
       "<Figure size 432x288 with 1 Axes>"
      ]
     },
     "metadata": {
      "needs_background": "light"
     },
     "output_type": "display_data"
    }
   ],
   "source": [
    "merged['score_final'].plot(kind='hist', alpha=0.5, rwidth=0.5)"
   ]
  },
  {
   "cell_type": "markdown",
   "id": "ea59f53e",
   "metadata": {},
   "source": [
    "### Проводим отбор lrnRNA, с вероятным 0-ым кодирующим потенциалом.(Легенда - всего 12 признаков, <=6 наш критерий)"
   ]
  },
  {
   "cell_type": "code",
   "execution_count": 54,
   "id": "d1bee733",
   "metadata": {},
   "outputs": [],
   "source": [
    "merged['final_final_score'] = 0\n",
    "for i in range(len(merged)):\n",
    "    if merged.iloc[i]['score_final'] <=6:\n",
    "        merged.loc[i,'final_final_score'] = 0\n",
    "    else:\n",
    "        merged.loc[i,'final_final_score'] = 1"
   ]
  },
  {
   "cell_type": "markdown",
   "id": "4bbfe020",
   "metadata": {},
   "source": [
    "### Распределнием кодирующих и некодирующих."
   ]
  },
  {
   "cell_type": "code",
   "execution_count": 55,
   "id": "19cb23a7",
   "metadata": {},
   "outputs": [
    {
     "data": {
      "text/plain": [
       "<AxesSubplot:ylabel='Frequency'>"
      ]
     },
     "execution_count": 55,
     "metadata": {},
     "output_type": "execute_result"
    },
    {
     "data": {
      "image/png": "[encoded data removed]",
      "text/plain": [
       "<Figure size 432x288 with 1 Axes>"
      ]
     },
     "metadata": {
      "needs_background": "light"
     },
     "output_type": "display_data"
    }
   ],
   "source": [
    "merged['final_final_score'].plot(kind='hist', alpha=0.5, rwidth=0.5)"
   ]
  },
  {
   "cell_type": "code",
   "execution_count": 56,
   "id": "4e3ecfd3",
   "metadata": {},
   "outputs": [],
   "source": [
    "merged.to_csv(\"data/merged_data.csv\")\n",
    "merged_score_o = merged[merged.final_final_score == 0]\n",
    "merged_score_o.to_csv(\"data/score_0.csv\")"
   ]
  },
  {
   "cell_type": "markdown",
   "id": "ec401b8d",
   "metadata": {},
   "source": [
    "## Потенциально некодирующие lrnRNA"
   ]
  },
  {
   "cell_type": "code",
   "execution_count": 59,
   "id": "d794ec46",
   "metadata": {},
   "outputs": [],
   "source": [
    "bad_boys = pd.read_csv(\"data/score_0.csv\")"
   ]
  },
  {
   "cell_type": "code",
   "execution_count": 60,
   "id": "f2e605a7",
   "metadata": {},
   "outputs": [
    {
     "data": {
      "text/plain": [
       "Unnamed: 0                                                   3195\n",
       "Gene_ID                                                      3195\n",
       "Mann-Whitney p-value                                         3195\n",
       "hek_av                                                       3195\n",
       "sgRNAs passing filter                                        3195\n",
       "screen score                                                 3195\n",
       "hek_RNA                                                      3195\n",
       "closest protein-coding gene                                  3195\n",
       "distance to closest protein-coding gene TSS (bp)             3195\n",
       "closest protein-coding gene K562 growth phenotype (gamma)    3195\n",
       "closest protein-coding gene expression in HEK293T (FPKM)     3195\n",
       "lnc_metric                                                   3195\n",
       "k562_av                                                      3195\n",
       "k562_RNA                                                     3195\n",
       "mcf7_av                                                      3195\n",
       "mcf7_RNA                                                     3195\n",
       "231_av                                                       3195\n",
       "231_RNA                                                      3195\n",
       "hela_av                                                      3195\n",
       "hela_RNA                                                     3195\n",
       "u87_av                                                       3195\n",
       "u87_RNA                                                      3195\n",
       "TSS ID                                                       3195\n",
       "Transcript ID                                                3195\n",
       "gene name                                                    3195\n",
       "chromosome                                                   3195\n",
       "strand                                                       3195\n",
       "TSS source                                                   3195\n",
       "primary TSS 5prime                                           3195\n",
       "primary TSS 3prime                                           3195\n",
       "secondary TSS 5prime                                         3195\n",
       "secondary TSS 3prime                                         3195\n",
       "score_hek_av                                                 3195\n",
       "score_hek_RNA                                                3195\n",
       "score_k562_av                                                3195\n",
       "score_k562_RNA                                               3195\n",
       "score_mcf7_av                                                3195\n",
       "score_mcf7_RNA                                               3195\n",
       "score_231_av                                                 3195\n",
       "score_231_RNA                                                3195\n",
       "score_hela_av                                                3195\n",
       "score_hela_RNA                                               3195\n",
       "score_u87_av                                                 3195\n",
       "score_u87_RNA                                                3195\n",
       "score_final                                                  3195\n",
       "final_final_score                                            3195\n",
       "dtype: int64"
      ]
     },
     "execution_count": 60,
     "metadata": {},
     "output_type": "execute_result"
    }
   ],
   "source": [
    "bad_boys.count()"
   ]
  },
  {
   "cell_type": "code",
   "execution_count": null,
   "id": "0c16af9c",
   "metadata": {},
   "outputs": [],
   "source": []
  }
 ],
 "metadata": {
  "kernelspec": {
   "display_name": "Python 3 (ipykernel)",
   "language": "python",
   "name": "python3"
  },
  "language_info": {
   "codemirror_mode": {
    "name": "ipython",
    "version": 3
   },
   "file_extension": ".py",
   "mimetype": "text/x-python",
   "name": "python",
   "nbconvert_exporter": "python",
   "pygments_lexer": "ipython3",
   "version": "3.8.10"
  }
 },
 "nbformat": 4,
 "nbformat_minor": 5
}
