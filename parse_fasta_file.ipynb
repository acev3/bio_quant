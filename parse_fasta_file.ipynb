{
 "cells": [
  {
   "cell_type": "code",
   "execution_count": 2,
   "id": "6e18d176",
   "metadata": {},
   "outputs": [],
   "source": [
    "from Bio import SeqIO\n",
    "from Bio.SeqRecord import SeqRecord\n",
    "import pandas as pd"
   ]
  },
  {
   "cell_type": "code",
   "execution_count": 3,
   "id": "e5ce0e3f",
   "metadata": {},
   "outputs": [],
   "source": [
    "tr_ids = []\n",
    "gen_ids = []\n",
    "seqs = []"
   ]
  },
  {
   "cell_type": "code",
   "execution_count": 4,
   "id": "2666a713",
   "metadata": {},
   "outputs": [],
   "source": [
    "file_in ='data/gencode.v41.pc_transcripts.fa'\n",
    "for seq_record in SeqIO.parse(open(file_in, mode='r'), 'fasta'):\n",
    "\n",
    "    # remove .id from .description record (remove all before first space)\n",
    "\n",
    "    seq_record.description=' '.join(seq_record.description.split()[1:])\n",
    "    tr_id = seq_record.id.split(\"|\")[0]\n",
    "    gen_id = seq_record.id.split(\"|\")[1]\n",
    "    seq = seq_record.seq\n",
    "    tr_ids.append(tr_id)\n",
    "    gen_ids.append(gen_id)\n",
    "    seqs.append(seq)\n"
   ]
  },
  {
   "cell_type": "code",
   "execution_count": 5,
   "id": "40788eb0",
   "metadata": {},
   "outputs": [],
   "source": [
    "df = pd.DataFrame({'Gene_id':gen_ids, 'Transcript_id': tr_ids, 'Seq': seqs})"
   ]
  },
  {
   "cell_type": "code",
   "execution_count": 6,
   "id": "823f631b",
   "metadata": {},
   "outputs": [],
   "source": [
    "df.to_csv(\"data/pc_transcripts.csv\")"
   ]
  },
  {
   "cell_type": "code",
   "execution_count": null,
   "id": "a3ce0d46",
   "metadata": {},
   "outputs": [],
   "source": []
  }
 ],
 "metadata": {
  "kernelspec": {
   "display_name": "Python 3 (ipykernel)",
   "language": "python",
   "name": "python3"
  },
  "language_info": {
   "codemirror_mode": {
    "name": "ipython",
    "version": 3
   },
   "file_extension": ".py",
   "mimetype": "text/x-python",
   "name": "python",
   "nbconvert_exporter": "python",
   "pygments_lexer": "ipython3",
   "version": "3.8.10"
  }
 },
 "nbformat": 4,
 "nbformat_minor": 5
}
